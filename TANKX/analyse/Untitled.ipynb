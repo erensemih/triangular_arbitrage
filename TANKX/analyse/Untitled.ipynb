{
 "cells": [
  {
   "cell_type": "code",
   "execution_count": 1,
   "id": "f49813b2-2fa2-4918-b280-28a377003cd0",
   "metadata": {},
   "outputs": [],
   "source": [
    "# Assuming you have set your API_KEY and API_SECRET as environment variables\n",
    "api_key = \"\"\n",
    "api_secret = \"\"\n",
    "\n"
   ]
  },
  {
   "cell_type": "code",
   "execution_count": 2,
   "id": "1fc427b4-18a1-4208-a94e-2e93adcc915c",
   "metadata": {},
   "outputs": [],
   "source": [
    "from binance.client import Client\n",
    "# Initialize Binance client\n",
    "client = Client(api_key=api_key, api_secret=api_secret)\n",
    "\n",
    "# Fetch exchange information\n",
    "exchange_info = client.get_exchange_info()\n"
   ]
  },
  {
   "cell_type": "code",
   "execution_count": 3,
   "id": "53e6c5d4-f7ad-4540-b6c8-43176af83216",
   "metadata": {},
   "outputs": [],
   "source": [
    "def find_unique_triangular_sets(pairs):\n",
    "    # Create a graph where each currency is a node\n",
    "    graph = {}\n",
    "    for pair in pairs:\n",
    "        base, quote = pair['baseAsset'], pair['quoteAsset']\n",
    "        if base not in graph:\n",
    "            graph[base] = set()\n",
    "        if quote not in graph:\n",
    "            graph[quote] = set()\n",
    "        graph[base].add(quote)\n",
    "        graph[quote].add(base)  # Assume bidirectional trading for simplicity\n",
    "\n",
    "    # Helper function to sort the cycle in a specific order\n",
    "    def sort_cycle(cycle):\n",
    "        return tuple(sorted(cycle, key=lambda x: (x != cycle[0], x)))\n",
    "\n",
    "    # Find all unique cycles of length three\n",
    "    unique_cycles = set()\n",
    "    for start in graph:\n",
    "        for second in graph[start]:\n",
    "            if second == start: continue  # Avoid self-loops\n",
    "            for third in graph[second]:\n",
    "                if third == start or third == second: continue  # Avoid duplicates and self-loops\n",
    "                if start in graph[third]:  # Complete the cycle\n",
    "                    cycle = sort_cycle([start, second, third])\n",
    "                    unique_cycles.add(cycle)\n",
    "\n",
    "    return unique_cycles\n"
   ]
  },
  {
   "cell_type": "code",
   "execution_count": 4,
   "id": "0dbbd3b0-338a-48e6-a3ce-9e6b3db7e562",
   "metadata": {},
   "outputs": [],
   "source": [
    "unique_triangular_sets = find_unique_triangular_sets( exchange_info['symbols'])\n",
    "unique_triangulars  = [list(t) for t in unique_triangular_sets]\n"
   ]
  },
  {
   "cell_type": "code",
   "execution_count": 5,
   "id": "d87e7b56-3da0-49f7-9039-a303c1216845",
   "metadata": {},
   "outputs": [
    {
     "data": {
      "text/plain": [
       "15474"
      ]
     },
     "execution_count": 5,
     "metadata": {},
     "output_type": "execute_result"
    }
   ],
   "source": [
    "len(unique_triangulars)"
   ]
  },
  {
   "cell_type": "code",
   "execution_count": 6,
   "id": "c3bac31d-066d-4d3e-809b-f506a08e9d9e",
   "metadata": {},
   "outputs": [],
   "source": [
    "import json\n",
    "filename = \"all_triangles.json\"\n",
    "\n",
    "# Write the list of lists to a JSON file\n",
    "with open(filename, \"w\") as json_file:\n",
    "    json.dump(unique_triangulars, json_file)\n"
   ]
  },
  {
   "cell_type": "code",
   "execution_count": null,
   "id": "bd9bb8c8-9122-43c9-9440-0ca3b3a815d7",
   "metadata": {},
   "outputs": [],
   "source": []
  },
  {
   "cell_type": "code",
   "execution_count": null,
   "id": "0434837b-5b49-4911-b29f-eeb2050a784c",
   "metadata": {},
   "outputs": [],
   "source": []
  }
 ],
 "metadata": {
  "kernelspec": {
   "display_name": "Python 3 (ipykernel)",
   "language": "python",
   "name": "python3"
  },
  "language_info": {
   "codemirror_mode": {
    "name": "ipython",
    "version": 3
   },
   "file_extension": ".py",
   "mimetype": "text/x-python",
   "name": "python",
   "nbconvert_exporter": "python",
   "pygments_lexer": "ipython3",
   "version": "3.9.7"
  }
 },
 "nbformat": 4,
 "nbformat_minor": 5
}
